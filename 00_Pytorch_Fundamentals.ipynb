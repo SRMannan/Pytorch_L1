{
  "nbformat": 4,
  "nbformat_minor": 0,
  "metadata": {
    "colab": {
      "provenance": [],
      "gpuType": "T4",
      "authorship_tag": "ABX9TyMX/8xfIGpApOQ3pvpLOhLv",
      "include_colab_link": true
    },
    "kernelspec": {
      "name": "python3",
      "display_name": "Python 3"
    },
    "language_info": {
      "name": "python"
    },
    "accelerator": "GPU"
  },
  "cells": [
    {
      "cell_type": "markdown",
      "metadata": {
        "id": "view-in-github",
        "colab_type": "text"
      },
      "source": [
        "<a href=\"https://colab.research.google.com/github/SRMannan/Pytorch_L1/blob/main/00_Pytorch_Fundamentals.ipynb\" target=\"_parent\"><img src=\"https://colab.research.google.com/assets/colab-badge.svg\" alt=\"Open In Colab\"/></a>"
      ]
    },
    {
      "cell_type": "code",
      "execution_count": null,
      "metadata": {
        "colab": {
          "base_uri": "https://localhost:8080/"
        },
        "id": "Tv2jdGQrzcey",
        "outputId": "33a2cfd7-b597-457b-d3f6-8cea3827af81"
      },
      "outputs": [
        {
          "output_type": "stream",
          "name": "stdout",
          "text": [
            "2.3.1+cu121\n"
          ]
        }
      ],
      "source": [
        "import torch\n",
        "print(torch.__version__)"
      ]
    },
    {
      "cell_type": "markdown",
      "source": [
        "## INTRO TO TENSORS\n",
        "\n",
        "created using torch.tensor"
      ],
      "metadata": {
        "id": "U9qnSPqE0vBT"
      }
    },
    {
      "cell_type": "code",
      "source": [
        "# scalar\n",
        "scalar = torch.tensor(7)\n",
        "scalar"
      ],
      "metadata": {
        "colab": {
          "base_uri": "https://localhost:8080/"
        },
        "id": "3_E4YFa20jd9",
        "outputId": "b2941c56-fbd0-4272-e756-d821b560b42d"
      },
      "execution_count": null,
      "outputs": [
        {
          "output_type": "execute_result",
          "data": {
            "text/plain": [
              "tensor(7)"
            ]
          },
          "metadata": {},
          "execution_count": 2
        }
      ]
    },
    {
      "cell_type": "code",
      "source": [
        "vector = torch.tensor([7,7])\n",
        "vector.shape"
      ],
      "metadata": {
        "colab": {
          "base_uri": "https://localhost:8080/"
        },
        "id": "ROm3LI9d1jIQ",
        "outputId": "0238bb62-7075-47f7-ca3a-e17de1e7136a"
      },
      "execution_count": null,
      "outputs": [
        {
          "output_type": "execute_result",
          "data": {
            "text/plain": [
              "torch.Size([2])"
            ]
          },
          "metadata": {},
          "execution_count": 3
        }
      ]
    },
    {
      "cell_type": "code",
      "source": [
        "MATRIX = torch.tensor([[1,3,5] , [2,4,6]])\n",
        "MATRIX.shape"
      ],
      "metadata": {
        "colab": {
          "base_uri": "https://localhost:8080/"
        },
        "id": "Q8qGf-Ht1yju",
        "outputId": "183f043b-5f39-4f1a-e2ec-7a63d1672ce1"
      },
      "execution_count": null,
      "outputs": [
        {
          "output_type": "execute_result",
          "data": {
            "text/plain": [
              "torch.Size([2, 3])"
            ]
          },
          "metadata": {},
          "execution_count": 4
        }
      ]
    },
    {
      "cell_type": "code",
      "source": [
        "MATRIX[1]"
      ],
      "metadata": {
        "colab": {
          "base_uri": "https://localhost:8080/"
        },
        "id": "5sDeZc3fUmuv",
        "outputId": "b9f83d96-8e67-49f9-df05-7d5485a09272"
      },
      "execution_count": null,
      "outputs": [
        {
          "output_type": "execute_result",
          "data": {
            "text/plain": [
              "tensor([2, 4, 6])"
            ]
          },
          "metadata": {},
          "execution_count": 5
        }
      ]
    },
    {
      "cell_type": "code",
      "source": [
        "TENSOR = torch.tensor([[[1,2,3] , [3,6,9] , [4,8,10]]])\n",
        "TENSOR.shape"
      ],
      "metadata": {
        "colab": {
          "base_uri": "https://localhost:8080/"
        },
        "id": "iI1Z-jIeUrJ9",
        "outputId": "1124d519-9597-4afc-ce4d-8b27e345abbf"
      },
      "execution_count": null,
      "outputs": [
        {
          "output_type": "execute_result",
          "data": {
            "text/plain": [
              "torch.Size([1, 3, 3])"
            ]
          },
          "metadata": {},
          "execution_count": 6
        }
      ]
    },
    {
      "cell_type": "code",
      "source": [
        "TENSOR2 = torch.tensor([[[[1,2,3] , [1,2,4] , [1,3,8]] , [[2,3,4] , [4,5,6] , [7,8,9]]]])\n",
        "TENSOR2"
      ],
      "metadata": {
        "colab": {
          "base_uri": "https://localhost:8080/"
        },
        "id": "2E_oKy7-WM6l",
        "outputId": "07fae72f-9455-4e50-b0a8-bc560cdd25cd"
      },
      "execution_count": null,
      "outputs": [
        {
          "output_type": "execute_result",
          "data": {
            "text/plain": [
              "tensor([[[[1, 2, 3],\n",
              "          [1, 2, 4],\n",
              "          [1, 3, 8]],\n",
              "\n",
              "         [[2, 3, 4],\n",
              "          [4, 5, 6],\n",
              "          [7, 8, 9]]]])"
            ]
          },
          "metadata": {},
          "execution_count": 7
        }
      ]
    },
    {
      "cell_type": "code",
      "source": [
        "## 1 , 2 , 3 , 3\n",
        "TENSOR2.shape"
      ],
      "metadata": {
        "colab": {
          "base_uri": "https://localhost:8080/"
        },
        "id": "X7YzR2ucWhs0",
        "outputId": "17391472-f771-450c-db84-4e8713083003"
      },
      "execution_count": null,
      "outputs": [
        {
          "output_type": "execute_result",
          "data": {
            "text/plain": [
              "torch.Size([1, 2, 3, 3])"
            ]
          },
          "metadata": {},
          "execution_count": 8
        }
      ]
    },
    {
      "cell_type": "code",
      "source": [
        "TENSOR2[0][1][1][1]"
      ],
      "metadata": {
        "colab": {
          "base_uri": "https://localhost:8080/"
        },
        "id": "aFVkOHSCzLYF",
        "outputId": "2be6bbfa-482b-403a-9b40-21e424d4a4f4"
      },
      "execution_count": null,
      "outputs": [
        {
          "output_type": "execute_result",
          "data": {
            "text/plain": [
              "tensor(5)"
            ]
          },
          "metadata": {},
          "execution_count": 11
        }
      ]
    },
    {
      "cell_type": "markdown",
      "source": [
        "**for scalars and vectors ie tensors of dimension 0 and 1 we use lowercase variable names**\n",
        "\n",
        "**for matrices and N dimension tensors we use uppercase , just for sake of understanding what is what**\n",
        "\n",
        "*thats why we used such namings above*"
      ],
      "metadata": {
        "id": "1rHea7tzz6Gj"
      }
    },
    {
      "cell_type": "markdown",
      "source": [
        "NOW TO RANDOM TENSORS\n",
        "\n",
        "*why random tensors*\n",
        "these are very imp since this is the way neural networks learn , they start with tensors full of random numbers and then adjust those random #s to learn and ajust\n",
        "\n",
        "`start with random numbers -> look at data -> update the random numbers -> repeat`"
      ],
      "metadata": {
        "id": "LtfMJFIf0Ume"
      }
    },
    {
      "cell_type": "code",
      "source": [
        "#create a random tensor of size/shape(3,4)\n",
        "\n",
        "random_tensor = torch.rand(1,3,4)\n",
        "print(random_tensor)\n",
        "print('DIM : ' , random_tensor.ndim)"
      ],
      "metadata": {
        "colab": {
          "base_uri": "https://localhost:8080/"
        },
        "id": "71SvQPjp0m3u",
        "outputId": "acfc050b-dd76-48b7-f736-79e7fab8e291"
      },
      "execution_count": null,
      "outputs": [
        {
          "output_type": "stream",
          "name": "stdout",
          "text": [
            "tensor([[[0.9687, 0.5579, 0.1333, 0.3204],\n",
            "         [0.2383, 0.8082, 0.3087, 0.8428],\n",
            "         [0.8387, 0.7715, 0.4015, 0.4486]]])\n",
            "DIM :  3\n"
          ]
        }
      ]
    },
    {
      "cell_type": "code",
      "source": [
        "# create a random tesnor with similar size as that of an image\n",
        "random_image_size_tensor = torch.rand(size = (3 , 224 , 224))           #color_channels , height , width\n",
        "#random_image_size_tensor\n",
        "print(random_image_size_tensor.shape)\n",
        "print(random_image_size_tensor.ndim)"
      ],
      "metadata": {
        "colab": {
          "base_uri": "https://localhost:8080/"
        },
        "id": "srKsdUPg1u6g",
        "outputId": "f64e89a6-89be-43db-8843-3638f39ab691"
      },
      "execution_count": null,
      "outputs": [
        {
          "output_type": "stream",
          "name": "stdout",
          "text": [
            "torch.Size([224, 224, 3])\n",
            "3\n"
          ]
        }
      ]
    },
    {
      "cell_type": "markdown",
      "source": [
        "# Tensors with all zeros or ones\n",
        "*this is useful when creating masks* ✈"
      ],
      "metadata": {
        "id": "80DrWd0M27Sr"
      }
    },
    {
      "cell_type": "code",
      "source": [
        "zeros = torch.zeros(size = (3,4))\n",
        "zeros"
      ],
      "metadata": {
        "colab": {
          "base_uri": "https://localhost:8080/"
        },
        "id": "p2mp0BdG2_y6",
        "outputId": "74f90b1e-7841-41d4-bf2e-2efbf888cb92"
      },
      "execution_count": null,
      "outputs": [
        {
          "output_type": "execute_result",
          "data": {
            "text/plain": [
              "tensor([[0., 0., 0., 0.],\n",
              "        [0., 0., 0., 0.],\n",
              "        [0., 0., 0., 0.]])"
            ]
          },
          "metadata": {},
          "execution_count": 24
        }
      ]
    },
    {
      "cell_type": "code",
      "source": [
        "ones = torch.ones(size = (4,5))\n",
        "ones"
      ],
      "metadata": {
        "colab": {
          "base_uri": "https://localhost:8080/"
        },
        "id": "cIJar5_G3uSl",
        "outputId": "43aa4bce-62e5-4686-f5f4-26e059e1dc4a"
      },
      "execution_count": null,
      "outputs": [
        {
          "output_type": "execute_result",
          "data": {
            "text/plain": [
              "tensor([[1., 1., 1., 1., 1.],\n",
              "        [1., 1., 1., 1., 1.],\n",
              "        [1., 1., 1., 1., 1.],\n",
              "        [1., 1., 1., 1., 1.]])"
            ]
          },
          "metadata": {},
          "execution_count": 26
        }
      ]
    },
    {
      "cell_type": "code",
      "source": [
        "#thats masking\n",
        "zeros * random_tensor"
      ],
      "metadata": {
        "colab": {
          "base_uri": "https://localhost:8080/"
        },
        "id": "6aWq6-o731Qd",
        "outputId": "fda09db6-a391-44bc-ac0b-93fd8d1684e8"
      },
      "execution_count": null,
      "outputs": [
        {
          "output_type": "execute_result",
          "data": {
            "text/plain": [
              "tensor([[[0., 0., 0., 0.],\n",
              "         [0., 0., 0., 0.],\n",
              "         [0., 0., 0., 0.]]])"
            ]
          },
          "metadata": {},
          "execution_count": 28
        }
      ]
    },
    {
      "cell_type": "code",
      "source": [],
      "metadata": {
        "id": "TTRE5_kk4ATs"
      },
      "execution_count": null,
      "outputs": []
    }
  ]
}