{
  "nbformat": 4,
  "nbformat_minor": 0,
  "metadata": {
    "colab": {
      "provenance": [],
      "gpuType": "T4",
      "authorship_tag": "ABX9TyOKaCwHtEWHgA5WcpSH2BOU",
      "include_colab_link": true
    },
    "kernelspec": {
      "name": "python3",
      "display_name": "Python 3"
    },
    "language_info": {
      "name": "python"
    },
    "accelerator": "GPU"
  },
  "cells": [
    {
      "cell_type": "markdown",
      "metadata": {
        "id": "view-in-github",
        "colab_type": "text"
      },
      "source": [
        "<a href=\"https://colab.research.google.com/github/SRMannan/Pytorch_L1/blob/main/2_Tensors.ipynb\" target=\"_parent\"><img src=\"https://colab.research.google.com/assets/colab-badge.svg\" alt=\"Open In Colab\"/></a>"
      ]
    },
    {
      "cell_type": "code",
      "execution_count": 1,
      "metadata": {
        "colab": {
          "base_uri": "https://localhost:8080/"
        },
        "id": "YhbSKgIyjs5x",
        "outputId": "1c13eacb-3b54-400d-9435-55bf869c7214"
      },
      "outputs": [
        {
          "output_type": "stream",
          "name": "stdout",
          "text": [
            "2.5.1+cu121\n"
          ]
        }
      ],
      "source": [
        "import torch\n",
        "print(torch.__version__)"
      ]
    },
    {
      "cell_type": "code",
      "source": [
        "print(torch.cuda.is_available())"
      ],
      "metadata": {
        "colab": {
          "base_uri": "https://localhost:8080/"
        },
        "id": "nQC0LDeKj1sO",
        "outputId": "f2402c02-b7db-4e9a-f117-cbae3c7b80ea"
      },
      "execution_count": 2,
      "outputs": [
        {
          "output_type": "stream",
          "name": "stdout",
          "text": [
            "True\n"
          ]
        }
      ]
    },
    {
      "cell_type": "markdown",
      "source": [
        "**CREATING TENSOR**"
      ],
      "metadata": {
        "id": "xMkBJDaHkMtb"
      }
    },
    {
      "cell_type": "code",
      "source": [
        "#using empty\n",
        "a = torch.empty(2,3)\n",
        "print(type(a))"
      ],
      "metadata": {
        "colab": {
          "base_uri": "https://localhost:8080/"
        },
        "id": "Vj3M4JJbkGhw",
        "outputId": "fa5766de-0b1f-4773-d0cd-5ba33b7e0021"
      },
      "execution_count": 3,
      "outputs": [
        {
          "output_type": "stream",
          "name": "stdout",
          "text": [
            "<class 'torch.Tensor'>\n"
          ]
        }
      ]
    },
    {
      "cell_type": "code",
      "source": [
        "#using zeros\n",
        "torch.zeros(5,6)"
      ],
      "metadata": {
        "colab": {
          "base_uri": "https://localhost:8080/"
        },
        "id": "EdtwdYG6kGlb",
        "outputId": "50d2e68a-672b-464a-c42e-2fde4780654f"
      },
      "execution_count": 4,
      "outputs": [
        {
          "output_type": "execute_result",
          "data": {
            "text/plain": [
              "tensor([[0., 0., 0., 0., 0., 0.],\n",
              "        [0., 0., 0., 0., 0., 0.],\n",
              "        [0., 0., 0., 0., 0., 0.],\n",
              "        [0., 0., 0., 0., 0., 0.],\n",
              "        [0., 0., 0., 0., 0., 0.]])"
            ]
          },
          "metadata": {},
          "execution_count": 4
        }
      ]
    },
    {
      "cell_type": "code",
      "source": [
        "#using ones\n",
        "torch.ones(5,6)"
      ],
      "metadata": {
        "colab": {
          "base_uri": "https://localhost:8080/"
        },
        "id": "384kyqhtkG1Q",
        "outputId": "f0403f5e-4de2-4774-d8c6-c94fd3f03958"
      },
      "execution_count": 5,
      "outputs": [
        {
          "output_type": "execute_result",
          "data": {
            "text/plain": [
              "tensor([[1., 1., 1., 1., 1., 1.],\n",
              "        [1., 1., 1., 1., 1., 1.],\n",
              "        [1., 1., 1., 1., 1., 1.],\n",
              "        [1., 1., 1., 1., 1., 1.],\n",
              "        [1., 1., 1., 1., 1., 1.]])"
            ]
          },
          "metadata": {},
          "execution_count": 5
        }
      ]
    },
    {
      "cell_type": "code",
      "source": [
        "#using rand\n",
        "torch.rand(4,5)\n",
        "\n",
        "## downside is that for every new runtime , new value , for this we use seed"
      ],
      "metadata": {
        "colab": {
          "base_uri": "https://localhost:8080/"
        },
        "id": "te6-2Xzfkqk6",
        "outputId": "be963ced-164f-4199-c162-cfa4abe2c14f"
      },
      "execution_count": 6,
      "outputs": [
        {
          "output_type": "execute_result",
          "data": {
            "text/plain": [
              "tensor([[0.1167, 0.0653, 0.1163, 0.2481, 0.1579],\n",
              "        [0.1927, 0.4531, 0.4645, 0.8126, 0.5238],\n",
              "        [0.9956, 0.9836, 0.6922, 0.9144, 0.4530],\n",
              "        [0.3094, 0.3342, 0.0327, 0.1164, 0.4638]])"
            ]
          },
          "metadata": {},
          "execution_count": 6
        }
      ]
    },
    {
      "cell_type": "code",
      "source": [
        "#manual seed\n",
        "torch.manual_seed(100)\n",
        "torch.rand(6,7)"
      ],
      "metadata": {
        "colab": {
          "base_uri": "https://localhost:8080/"
        },
        "id": "nx-mDHklkqnZ",
        "outputId": "9f34bfc3-fcf8-449d-fd6f-0c24db4c882c"
      },
      "execution_count": 7,
      "outputs": [
        {
          "output_type": "execute_result",
          "data": {
            "text/plain": [
              "tensor([[0.1117, 0.8158, 0.2626, 0.4839, 0.6765, 0.7539, 0.2627],\n",
              "        [0.0428, 0.2080, 0.1180, 0.1217, 0.7356, 0.7118, 0.7876],\n",
              "        [0.4183, 0.9014, 0.9969, 0.7565, 0.2239, 0.3023, 0.1784],\n",
              "        [0.8238, 0.5557, 0.9770, 0.4440, 0.9478, 0.7445, 0.4892],\n",
              "        [0.2426, 0.7003, 0.5277, 0.2472, 0.7909, 0.4235, 0.0169],\n",
              "        [0.2209, 0.9535, 0.7064, 0.1629, 0.8902, 0.5163, 0.0359]])"
            ]
          },
          "metadata": {},
          "execution_count": 7
        }
      ]
    },
    {
      "cell_type": "code",
      "source": [
        "#using tensor\n",
        "torch.tensor([[1,2,3],[4,5,6]])"
      ],
      "metadata": {
        "colab": {
          "base_uri": "https://localhost:8080/"
        },
        "id": "8Yv21xV8k9yL",
        "outputId": "65afc9da-d433-4e27-8abb-2b3aa7504e16"
      },
      "execution_count": 8,
      "outputs": [
        {
          "output_type": "execute_result",
          "data": {
            "text/plain": [
              "tensor([[1, 2, 3],\n",
              "        [4, 5, 6]])"
            ]
          },
          "metadata": {},
          "execution_count": 8
        }
      ]
    },
    {
      "cell_type": "code",
      "source": [
        "#torch arange\n",
        "torch.arange(0,19,3)"
      ],
      "metadata": {
        "colab": {
          "base_uri": "https://localhost:8080/"
        },
        "id": "cvrVKULck94f",
        "outputId": "ff794d61-f7e2-4d22-84da-b92b7b4c2a79"
      },
      "execution_count": 9,
      "outputs": [
        {
          "output_type": "execute_result",
          "data": {
            "text/plain": [
              "tensor([ 0,  3,  6,  9, 12, 15, 18])"
            ]
          },
          "metadata": {},
          "execution_count": 9
        }
      ]
    },
    {
      "cell_type": "code",
      "source": [
        "#using eye\n",
        "torch.eye(5)"
      ],
      "metadata": {
        "colab": {
          "base_uri": "https://localhost:8080/"
        },
        "id": "NAU6rhBelRmS",
        "outputId": "fc456fbc-84fe-486c-de32-eaba8b0ec14b"
      },
      "execution_count": 10,
      "outputs": [
        {
          "output_type": "execute_result",
          "data": {
            "text/plain": [
              "tensor([[1., 0., 0., 0., 0.],\n",
              "        [0., 1., 0., 0., 0.],\n",
              "        [0., 0., 1., 0., 0.],\n",
              "        [0., 0., 0., 1., 0.],\n",
              "        [0., 0., 0., 0., 1.]])"
            ]
          },
          "metadata": {},
          "execution_count": 10
        }
      ]
    },
    {
      "cell_type": "markdown",
      "source": [
        "**TENSOR SHAPE**"
      ],
      "metadata": {
        "id": "8p9Nde-TlZ8S"
      }
    },
    {
      "cell_type": "code",
      "source": [
        "x = torch.tensor([[1,2,3] , [4,5,6]])\n",
        "x"
      ],
      "metadata": {
        "colab": {
          "base_uri": "https://localhost:8080/"
        },
        "id": "FKXjOGmbleDQ",
        "outputId": "8e29faea-23f5-4d82-b987-5ed6a5056ff4"
      },
      "execution_count": 11,
      "outputs": [
        {
          "output_type": "execute_result",
          "data": {
            "text/plain": [
              "tensor([[1, 2, 3],\n",
              "        [4, 5, 6]])"
            ]
          },
          "metadata": {},
          "execution_count": 11
        }
      ]
    },
    {
      "cell_type": "code",
      "source": [
        "x.shape"
      ],
      "metadata": {
        "colab": {
          "base_uri": "https://localhost:8080/"
        },
        "id": "y5QFGl8OljkE",
        "outputId": "c7fbf549-b216-4d7c-d7ab-26a377436bd0"
      },
      "execution_count": 12,
      "outputs": [
        {
          "output_type": "execute_result",
          "data": {
            "text/plain": [
              "torch.Size([2, 3])"
            ]
          },
          "metadata": {},
          "execution_count": 12
        }
      ]
    },
    {
      "cell_type": "code",
      "source": [
        "#copy a given tensor shape and empty\n",
        "torch.empty_like(x)"
      ],
      "metadata": {
        "colab": {
          "base_uri": "https://localhost:8080/"
        },
        "id": "tqF7Z4Q_ll5q",
        "outputId": "0856b96d-5a08-45ab-b7c3-777eda99cb2b"
      },
      "execution_count": 13,
      "outputs": [
        {
          "output_type": "execute_result",
          "data": {
            "text/plain": [
              "tensor([[      127510864, 136359423185008,               0],\n",
              "        [              0,               0,               0]])"
            ]
          },
          "metadata": {},
          "execution_count": 13
        }
      ]
    },
    {
      "cell_type": "code",
      "source": [
        "#copy a given tensor shape and zeros\n",
        "torch.zeros_like(x)"
      ],
      "metadata": {
        "colab": {
          "base_uri": "https://localhost:8080/"
        },
        "id": "IRzJYOmMlvtk",
        "outputId": "c8b134f4-9eac-43e1-9c75-6069cf774eef"
      },
      "execution_count": 14,
      "outputs": [
        {
          "output_type": "execute_result",
          "data": {
            "text/plain": [
              "tensor([[0, 0, 0],\n",
              "        [0, 0, 0]])"
            ]
          },
          "metadata": {},
          "execution_count": 14
        }
      ]
    },
    {
      "cell_type": "code",
      "source": [
        "#copy a given tensor shape and ones\n",
        "torch.ones_like(x)"
      ],
      "metadata": {
        "colab": {
          "base_uri": "https://localhost:8080/"
        },
        "id": "uFX9DYe_lrtc",
        "outputId": "d82787f0-6a11-42e5-ae70-3ffc822760db"
      },
      "execution_count": 15,
      "outputs": [
        {
          "output_type": "execute_result",
          "data": {
            "text/plain": [
              "tensor([[1, 1, 1],\n",
              "        [1, 1, 1]])"
            ]
          },
          "metadata": {},
          "execution_count": 15
        }
      ]
    },
    {
      "cell_type": "code",
      "source": [
        "#copy a given tensor shape and rand\n",
        "torch.rand_like(x)\n",
        "\n",
        "##the above like wont work , since entries of x are int , not float\n",
        "## so specify longs"
      ],
      "metadata": {
        "colab": {
          "base_uri": "https://localhost:8080/",
          "height": 218
        },
        "id": "JKUnQ_6El32D",
        "outputId": "23444348-6c52-432e-ff5d-20f5227b220e"
      },
      "execution_count": 16,
      "outputs": [
        {
          "output_type": "error",
          "ename": "RuntimeError",
          "evalue": "\"check_uniform_bounds\" not implemented for 'Long'",
          "traceback": [
            "\u001b[0;31m---------------------------------------------------------------------------\u001b[0m",
            "\u001b[0;31mRuntimeError\u001b[0m                              Traceback (most recent call last)",
            "\u001b[0;32m<ipython-input-16-7ecea9531fc6>\u001b[0m in \u001b[0;36m<cell line: 0>\u001b[0;34m()\u001b[0m\n\u001b[1;32m      1\u001b[0m \u001b[0;31m#copy a given tensor shape and rand\u001b[0m\u001b[0;34m\u001b[0m\u001b[0;34m\u001b[0m\u001b[0m\n\u001b[0;32m----> 2\u001b[0;31m \u001b[0mtorch\u001b[0m\u001b[0;34m.\u001b[0m\u001b[0mrand_like\u001b[0m\u001b[0;34m(\u001b[0m\u001b[0mx\u001b[0m\u001b[0;34m)\u001b[0m\u001b[0;34m\u001b[0m\u001b[0;34m\u001b[0m\u001b[0m\n\u001b[0m\u001b[1;32m      3\u001b[0m \u001b[0;34m\u001b[0m\u001b[0m\n\u001b[1;32m      4\u001b[0m \u001b[0;31m##the above like wont work , since entries of x are int , not float\u001b[0m\u001b[0;34m\u001b[0m\u001b[0;34m\u001b[0m\u001b[0m\n\u001b[1;32m      5\u001b[0m \u001b[0;31m## so specify longs\u001b[0m\u001b[0;34m\u001b[0m\u001b[0;34m\u001b[0m\u001b[0m\n",
            "\u001b[0;31mRuntimeError\u001b[0m: \"check_uniform_bounds\" not implemented for 'Long'"
          ]
        }
      ]
    },
    {
      "cell_type": "code",
      "source": [
        "#find tensor datatype\n",
        "x.dtype"
      ],
      "metadata": {
        "colab": {
          "base_uri": "https://localhost:8080/"
        },
        "id": "ZVU1H-p-mJOx",
        "outputId": "5ef3f8bf-a75e-47d1-ddb3-39f90532d84a"
      },
      "execution_count": 17,
      "outputs": [
        {
          "output_type": "execute_result",
          "data": {
            "text/plain": [
              "torch.int64"
            ]
          },
          "metadata": {},
          "execution_count": 17
        }
      ]
    },
    {
      "cell_type": "code",
      "source": [
        "#assign dtype to tensor\n",
        "y = torch.tensor([1,2,3] , dtype = torch.float32)"
      ],
      "metadata": {
        "id": "ERKtfWJ9mJcT"
      },
      "execution_count": 18,
      "outputs": []
    },
    {
      "cell_type": "code",
      "source": [
        "torch.rand_like(y)"
      ],
      "metadata": {
        "colab": {
          "base_uri": "https://localhost:8080/"
        },
        "id": "qrSiT5Mkth41",
        "outputId": "dc491b60-57a0-4664-e37f-f97ba0b14e4c"
      },
      "execution_count": 19,
      "outputs": [
        {
          "output_type": "execute_result",
          "data": {
            "text/plain": [
              "tensor([0.6476, 0.3430, 0.3182])"
            ]
          },
          "metadata": {},
          "execution_count": 19
        }
      ]
    },
    {
      "cell_type": "markdown",
      "source": [
        "**MATHEMATICAL OPS ON TENSORS**"
      ],
      "metadata": {
        "id": "cE75GFtFt_ZE"
      }
    },
    {
      "cell_type": "code",
      "source": [
        "x = torch.rand(2,2)\n",
        "x"
      ],
      "metadata": {
        "colab": {
          "base_uri": "https://localhost:8080/"
        },
        "id": "xucQoINgth8K",
        "outputId": "94da9da1-8997-4265-8dbc-ed2d0336cb34"
      },
      "execution_count": 20,
      "outputs": [
        {
          "output_type": "execute_result",
          "data": {
            "text/plain": [
              "tensor([[0.5261, 0.0447],\n",
              "        [0.5123, 0.9051]])"
            ]
          },
          "metadata": {},
          "execution_count": 20
        }
      ]
    },
    {
      "cell_type": "code",
      "source": [
        "#addition operation\n",
        "print(f'x+2 : {x+2}')\n",
        "\n",
        "#subtraction\n",
        "print(f'x-2 : {x-2}')\n",
        "\n",
        "#multi\n",
        "print(f'x*2 : {x*2}')\n",
        "\n",
        "#div\n",
        "print(f'x/2 : {x/2}')\n",
        "\n",
        "#int div\n",
        "print(f'(x*100)//2 : {(x*100) // 2}')\n",
        "\n",
        "##pow\n",
        "print(f'x^2 : {x**2}')"
      ],
      "metadata": {
        "colab": {
          "base_uri": "https://localhost:8080/"
        },
        "id": "4FJFMobtujm8",
        "outputId": "f142c5db-1b2a-4bdd-e8aa-705ee9cae712"
      },
      "execution_count": 21,
      "outputs": [
        {
          "output_type": "stream",
          "name": "stdout",
          "text": [
            "x+2 : tensor([[2.5261, 2.0447],\n",
            "        [2.5123, 2.9051]])\n",
            "x-2 : tensor([[-1.4739, -1.9553],\n",
            "        [-1.4877, -1.0949]])\n",
            "x*2 : tensor([[1.0522, 0.0893],\n",
            "        [1.0247, 1.8102]])\n",
            "x/2 : tensor([[0.2630, 0.0223],\n",
            "        [0.2562, 0.4525]])\n",
            "(x*100)//2 : tensor([[26.,  2.],\n",
            "        [25., 45.]])\n",
            "x^2 : tensor([[0.2768, 0.0020],\n",
            "        [0.2625, 0.8192]])\n"
          ]
        }
      ]
    },
    {
      "cell_type": "markdown",
      "source": [
        "*2 TENSOR OPS*"
      ],
      "metadata": {
        "id": "CLlJxDEZvNye"
      }
    },
    {
      "cell_type": "code",
      "source": [
        "y = torch.rand(2,2)\n",
        "y\n",
        "\n",
        "print(f'x+y : {x+y}')\n",
        "print(f'x-y : {x-y}')\n",
        "print(f'x*y : {x*y}')\n",
        "print(f'x/y : {x/y}')\n",
        "print(f'x//y : {x//y}')\n",
        "print(f'x^y : {x**y}')\n",
        "\n"
      ],
      "metadata": {
        "colab": {
          "base_uri": "https://localhost:8080/"
        },
        "id": "iIbS8mpyvQBM",
        "outputId": "b253afb5-0ca8-46b1-fc70-643953be92c6"
      },
      "execution_count": 22,
      "outputs": [
        {
          "output_type": "stream",
          "name": "stdout",
          "text": [
            "x+y : tensor([[1.1249, 0.4897],\n",
            "        [1.2402, 1.3613]])\n",
            "x-y : tensor([[-0.0728, -0.4003],\n",
            "        [-0.2155,  0.4488]])\n",
            "x*y : tensor([[0.3151, 0.0199],\n",
            "        [0.3729, 0.4129]])\n",
            "x/y : tensor([[0.8785, 0.1004],\n",
            "        [0.7039, 1.9837]])\n",
            "x//y : tensor([[0., 0.],\n",
            "        [0., 1.]])\n",
            "x^y : tensor([[0.6807, 0.2507],\n",
            "        [0.6146, 0.9555]])\n"
          ]
        }
      ]
    },
    {
      "cell_type": "code",
      "source": [
        "z = torch.tensor([1.0 , 2.1 , -3.5 , -4.73 , 5.76 , 8.9])\n",
        "z"
      ],
      "metadata": {
        "colab": {
          "base_uri": "https://localhost:8080/"
        },
        "id": "dngXLVNMv2kJ",
        "outputId": "a9d36812-1153-4c92-cc28-0b80b687751f"
      },
      "execution_count": 23,
      "outputs": [
        {
          "output_type": "execute_result",
          "data": {
            "text/plain": [
              "tensor([ 1.0000,  2.1000, -3.5000, -4.7300,  5.7600,  8.9000])"
            ]
          },
          "metadata": {},
          "execution_count": 23
        }
      ]
    },
    {
      "cell_type": "code",
      "source": [
        "#abs\n",
        "torch.abs(z)"
      ],
      "metadata": {
        "colab": {
          "base_uri": "https://localhost:8080/"
        },
        "id": "DwKSKixZwEJl",
        "outputId": "0d4117fd-6d21-48c0-94b4-628bae37222a"
      },
      "execution_count": 24,
      "outputs": [
        {
          "output_type": "execute_result",
          "data": {
            "text/plain": [
              "tensor([1.0000, 2.1000, 3.5000, 4.7300, 5.7600, 8.9000])"
            ]
          },
          "metadata": {},
          "execution_count": 24
        }
      ]
    },
    {
      "cell_type": "code",
      "source": [
        "#neg\n",
        "torch.neg(z)\n",
        "\n",
        "#||y we have ceil , floor , round etc"
      ],
      "metadata": {
        "colab": {
          "base_uri": "https://localhost:8080/"
        },
        "id": "PvDYLE89wOEr",
        "outputId": "77db0b84-1e5c-45b0-f68b-f5843152f967"
      },
      "execution_count": 25,
      "outputs": [
        {
          "output_type": "execute_result",
          "data": {
            "text/plain": [
              "tensor([-1.0000, -2.1000,  3.5000,  4.7300, -5.7600, -8.9000])"
            ]
          },
          "metadata": {},
          "execution_count": 25
        }
      ]
    },
    {
      "cell_type": "code",
      "source": [
        "#clamp\n",
        "#useful to keep numbers within a given range only\n",
        "torch.clamp(z , min = 1 , max = 5)"
      ],
      "metadata": {
        "colab": {
          "base_uri": "https://localhost:8080/"
        },
        "id": "1J0ME9grwa3T",
        "outputId": "97f9f710-48d3-43e8-f2a2-138195bc01bc"
      },
      "execution_count": 26,
      "outputs": [
        {
          "output_type": "execute_result",
          "data": {
            "text/plain": [
              "tensor([1.0000, 2.1000, 1.0000, 1.0000, 5.0000, 5.0000])"
            ]
          },
          "metadata": {},
          "execution_count": 26
        }
      ]
    },
    {
      "cell_type": "markdown",
      "source": [
        "**REDUCTION OPS**"
      ],
      "metadata": {
        "id": "nO_YKjwpw7vF"
      }
    },
    {
      "cell_type": "code",
      "source": [
        "q = torch.randint(low = 0 , high = 6 , size = (2,3) , dtype = torch.float32)\n",
        "q"
      ],
      "metadata": {
        "colab": {
          "base_uri": "https://localhost:8080/"
        },
        "id": "baJKRT8Mw91v",
        "outputId": "a449c078-2362-4bce-fd3c-a1a02038afa4"
      },
      "execution_count": 30,
      "outputs": [
        {
          "output_type": "execute_result",
          "data": {
            "text/plain": [
              "tensor([[5., 3., 1.],\n",
              "        [4., 4., 3.]])"
            ]
          },
          "metadata": {},
          "execution_count": 30
        }
      ]
    },
    {
      "cell_type": "code",
      "source": [
        "#summing the whole tensor\n",
        "print(f'SUMMING WHOLE TENSOR : {torch.sum(q)}')\n",
        "\n",
        "#summing along the cols\n",
        "print(f'SUMMING ALONG COLS : {torch.sum(q , dim = 0)}')\n",
        "\n",
        "#summing alon the rows\n",
        "print(f'SUMMING ALONG ROWS : {torch.sum(q , dim = 1)}')"
      ],
      "metadata": {
        "colab": {
          "base_uri": "https://localhost:8080/"
        },
        "id": "WuzXRDbfxM7U",
        "outputId": "5d9418de-dc00-4231-f2b4-903cee16d823"
      },
      "execution_count": 31,
      "outputs": [
        {
          "output_type": "stream",
          "name": "stdout",
          "text": [
            "SUMMING WHOLE TENSOR : 20.0\n",
            "SUMMING ALONG COLS : tensor([9., 7., 4.])\n",
            "SUMMING ALONG ROWS : tensor([ 9., 11.])\n"
          ]
        }
      ]
    },
    {
      "cell_type": "code",
      "source": [
        "#calc mean\n",
        "torch.mean(q)"
      ],
      "metadata": {
        "colab": {
          "base_uri": "https://localhost:8080/"
        },
        "id": "7WIJM7iQnMJt",
        "outputId": "6b359781-4c75-4599-a66b-5891910ad67a"
      },
      "execution_count": 32,
      "outputs": [
        {
          "output_type": "execute_result",
          "data": {
            "text/plain": [
              "tensor(3.3333)"
            ]
          },
          "metadata": {},
          "execution_count": 32
        }
      ]
    },
    {
      "cell_type": "code",
      "source": [
        "#along cols\n",
        "torch.mean(q , dim = 0)\n",
        "#mean along rows\n",
        "torch.mean(q , dim = 1)"
      ],
      "metadata": {
        "colab": {
          "base_uri": "https://localhost:8080/"
        },
        "id": "6rFo5t2mnMMM",
        "outputId": "937cff88-9272-41cd-cae2-24c76fc76a46"
      },
      "execution_count": 34,
      "outputs": [
        {
          "output_type": "execute_result",
          "data": {
            "text/plain": [
              "tensor([3.0000, 3.6667])"
            ]
          },
          "metadata": {},
          "execution_count": 34
        }
      ]
    },
    {
      "cell_type": "code",
      "source": [
        "print(f'MAXUM : {torch.max(q)}')\n",
        "print(f'MINIM : {torch.min(q)}')\n"
      ],
      "metadata": {
        "colab": {
          "base_uri": "https://localhost:8080/"
        },
        "id": "p3BDDQy-nMPr",
        "outputId": "21cb10e0-b51f-402a-fec5-3d1ef0598a5c"
      },
      "execution_count": 36,
      "outputs": [
        {
          "output_type": "stream",
          "name": "stdout",
          "text": [
            "MAXUM : 5.0\n",
            "MINIM : 1.0\n"
          ]
        }
      ]
    },
    {
      "cell_type": "markdown",
      "source": [
        "**INPLACE OPERATION**"
      ],
      "metadata": {
        "id": "JcEWU64Jo76y"
      }
    },
    {
      "cell_type": "code",
      "source": [
        "m = torch.tensor([1.2 , 3.4 , 5.6 , 7.8 , 9.77])\n",
        "n = torch.tensor([1.55 , 6.78 , 9.88 , 8.77 , 5.43])\n",
        "\n",
        "#add of m and n takes place and gets stored in m\n",
        "#effectively it is m = m+n\n",
        "m.add_(n)"
      ],
      "metadata": {
        "colab": {
          "base_uri": "https://localhost:8080/"
        },
        "id": "AIMwZ6-yo4-1",
        "outputId": "43f83140-5bda-449f-f273-126cac7a2f27"
      },
      "execution_count": 40,
      "outputs": [
        {
          "output_type": "execute_result",
          "data": {
            "text/plain": [
              "tensor([ 2.7500, 10.1800, 15.4800, 16.5700, 15.2000])"
            ]
          },
          "metadata": {},
          "execution_count": 40
        }
      ]
    },
    {
      "cell_type": "code",
      "source": [],
      "metadata": {
        "id": "P83dGJDdo5BY"
      },
      "execution_count": null,
      "outputs": []
    },
    {
      "cell_type": "markdown",
      "source": [
        "**COPYING A TENSOR**"
      ],
      "metadata": {
        "id": "CvytFwwbp91p"
      }
    },
    {
      "cell_type": "code",
      "source": [
        "a = torch.rand(2,3)"
      ],
      "metadata": {
        "id": "eadX82aho5Dp"
      },
      "execution_count": 41,
      "outputs": []
    },
    {
      "cell_type": "code",
      "source": [
        "#why a = b works but dont work , reason is pointing to the same memory location\n",
        "##lets see the issue\n",
        "b = a\n",
        "print(f'VAL OF B : {b}')\n",
        "\n",
        "a[0][0] = 0\n",
        "print(f'VAL OF A AFTER CHANGES : {a}')\n",
        "print(f'VAL OF B AFTER CHANGES: {b}')\n",
        "\n",
        "##mem loc of a and b have become the same\n",
        "print(f'ID OF A : {id(a)}')\n",
        "print(f'ID OF B : {id(b)}')\n"
      ],
      "metadata": {
        "colab": {
          "base_uri": "https://localhost:8080/"
        },
        "id": "mFfJ5nl9o5GB",
        "outputId": "dc6e40c3-ffe1-47cd-864b-6cb438a34909"
      },
      "execution_count": 46,
      "outputs": [
        {
          "output_type": "stream",
          "name": "stdout",
          "text": [
            "VAL OF B : tensor([[0.0000, 0.7775, 0.6179],\n",
            "        [0.3379, 0.2170, 0.9454]])\n",
            "VAL OF A AFTER CHANGES : tensor([[0.0000, 0.7775, 0.6179],\n",
            "        [0.3379, 0.2170, 0.9454]])\n",
            "VAL OF B AFTER CHANGES: tensor([[0.0000, 0.7775, 0.6179],\n",
            "        [0.3379, 0.2170, 0.9454]])\n",
            "ID OF A : 136359423187600\n",
            "ID OF B : 136359423187600\n"
          ]
        }
      ]
    },
    {
      "cell_type": "code",
      "source": [
        "#copying the tensor\n",
        "b = a.clone()\n",
        "print(f'ID OF A : {id(a)}')\n",
        "print(f'ID OF B : {id(b)}')"
      ],
      "metadata": {
        "colab": {
          "base_uri": "https://localhost:8080/"
        },
        "id": "XtVGRmDQo5Jf",
        "outputId": "9f809626-8703-4088-891c-4c716564c30b"
      },
      "execution_count": 49,
      "outputs": [
        {
          "output_type": "stream",
          "name": "stdout",
          "text": [
            "ID OF A : 136359423187600\n",
            "ID OF B : 136358813278448\n"
          ]
        }
      ]
    },
    {
      "cell_type": "markdown",
      "source": [
        "#MOVING TO THE GPU"
      ],
      "metadata": {
        "id": "jiN8dALbxQaL"
      }
    },
    {
      "cell_type": "code",
      "source": [
        "device = torch.device('cuda')"
      ],
      "metadata": {
        "id": "2jDjL7eZxPQ5"
      },
      "execution_count": 50,
      "outputs": []
    },
    {
      "cell_type": "code",
      "source": [
        "d = torch.rand((2,3) , device = device)"
      ],
      "metadata": {
        "id": "VlLPm0DLxPTd"
      },
      "execution_count": 51,
      "outputs": []
    },
    {
      "cell_type": "markdown",
      "source": [
        "#NUMPY TO TORCH & TORCH TO NUMPY"
      ],
      "metadata": {
        "id": "87xkmZSLyDRS"
      }
    },
    {
      "cell_type": "code",
      "source": [
        "import numpy as np"
      ],
      "metadata": {
        "id": "A2KglhhzxPW3"
      },
      "execution_count": 52,
      "outputs": []
    },
    {
      "cell_type": "code",
      "source": [
        "b = np.array([1,2,3,4,5])"
      ],
      "metadata": {
        "id": "zVQ-feULyK8l"
      },
      "execution_count": 53,
      "outputs": []
    },
    {
      "cell_type": "code",
      "source": [
        "type(b)"
      ],
      "metadata": {
        "colab": {
          "base_uri": "https://localhost:8080/"
        },
        "id": "s1guS7sbyK_K",
        "outputId": "c3907015-32fd-4f38-ac8e-a064a08611a7"
      },
      "execution_count": 54,
      "outputs": [
        {
          "output_type": "execute_result",
          "data": {
            "text/plain": [
              "numpy.ndarray"
            ]
          },
          "metadata": {},
          "execution_count": 54
        }
      ]
    },
    {
      "cell_type": "code",
      "source": [
        "c = torch.from_numpy(b)\n",
        "type(c)"
      ],
      "metadata": {
        "colab": {
          "base_uri": "https://localhost:8080/"
        },
        "id": "G4z8RPpVyLCk",
        "outputId": "4e5a81f5-c29f-41ca-b103-a7d52f31fcaf"
      },
      "execution_count": 55,
      "outputs": [
        {
          "output_type": "execute_result",
          "data": {
            "text/plain": [
              "torch.Tensor"
            ]
          },
          "metadata": {},
          "execution_count": 55
        }
      ]
    },
    {
      "cell_type": "code",
      "source": [
        "c"
      ],
      "metadata": {
        "colab": {
          "base_uri": "https://localhost:8080/"
        },
        "id": "AiGQQy-6yYag",
        "outputId": "039629d5-6acd-4666-829f-793ed98b9ed7"
      },
      "execution_count": 56,
      "outputs": [
        {
          "output_type": "execute_result",
          "data": {
            "text/plain": [
              "tensor([1, 2, 3, 4, 5])"
            ]
          },
          "metadata": {},
          "execution_count": 56
        }
      ]
    },
    {
      "cell_type": "code",
      "source": [
        " g = c.numpy()\n",
        " type(g)"
      ],
      "metadata": {
        "colab": {
          "base_uri": "https://localhost:8080/"
        },
        "id": "IK9r2GLFyYeF",
        "outputId": "fb2a3a40-b887-44fd-cde4-a541b0b5fbd8"
      },
      "execution_count": 57,
      "outputs": [
        {
          "output_type": "execute_result",
          "data": {
            "text/plain": [
              "numpy.ndarray"
            ]
          },
          "metadata": {},
          "execution_count": 57
        }
      ]
    }
  ]
}